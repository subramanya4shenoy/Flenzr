{
  "nbformat": 4,
  "nbformat_minor": 0,
  "metadata": {
    "colab": {
      "provenance": [],
      "authorship_tag": "ABX9TyOxV8ZUKrtsZKCn+CrlxYVS",
      "include_colab_link": true
    },
    "kernelspec": {
      "name": "python3",
      "display_name": "Python 3"
    },
    "language_info": {
      "name": "python"
    }
  },
  "cells": [
    {
      "cell_type": "markdown",
      "metadata": {
        "id": "view-in-github",
        "colab_type": "text"
      },
      "source": [
        "<a href=\"https://colab.research.google.com/github/subramanya4shenoy/Flenzr/blob/main/Kaggle/Competitions/PGS_S3E16.ipynb\" target=\"_parent\"><img src=\"https://colab.research.google.com/assets/colab-badge.svg\" alt=\"Open In Colab\"/></a>"
      ]
    },
    {
      "cell_type": "markdown",
      "source": [
        "# 🦀 Regression with a Crab Age Dataset 🦀\n",
        "Playground Series - Season 3, Episode 16\n",
        "\n",
        "The dataset for this competition (both train and test) was generated from a deep learning model trained on the Crab Age Prediction dataset. Feature distributions are close to, but not exactly the same, as the original. Feel free to use the original dataset as part of this competition, both to explore differences as well as to see whether incorporating the original in training improves model performance."
      ],
      "metadata": {
        "id": "7CXEDcbezpR1"
      }
    },
    {
      "cell_type": "markdown",
      "source": [
        "## 🔶 Look at the big Picture\n",
        "\n",
        "### 🔸 **Frame the problem**\n",
        "*   🟢 **Goal:** Our objective is to predict the probability of Age of Crab 🦀 🗒\n",
        "*   🟢 **End Result:** `int` or `float` 🗒\n",
        "*   🟢 **Problem Type:** Regression\n",
        "*   🟢 **Learning Type:** Supervised Learning\n",
        "*   🟢 **Variate:** Univariate (need to predict only 1 target)\n",
        "*   🟢 **Features:** Multiple features\n",
        "\n",
        "### 🔸 **Select performance measure**:\n",
        "🟢 using Mean Absolute Error (MAE) 🗒 . This was given in the problem set. This also means there might be chances of high outliers.\n",
        "\n",
        "### 🔸 **Assumptions**: `none`\n",
        "\n",
        "---\n",
        "\n"
      ],
      "metadata": {
        "id": "tysynFp745tC"
      }
    },
    {
      "cell_type": "markdown",
      "source": [
        "## 🔶 **Get the Data**"
      ],
      "metadata": {
        "id": "1lib_9jXCniu"
      }
    },
    {
      "cell_type": "code",
      "source": [],
      "metadata": {
        "id": "lFcisLRbCxiz"
      },
      "execution_count": null,
      "outputs": []
    }
  ]
}