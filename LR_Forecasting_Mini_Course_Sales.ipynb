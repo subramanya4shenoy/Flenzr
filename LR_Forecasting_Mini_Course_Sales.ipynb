{
  "nbformat": 4,
  "nbformat_minor": 0,
  "metadata": {
    "colab": {
      "provenance": [],
      "authorship_tag": "ABX9TyP3nZHfYa4+xfI8KFr2Y8wv",
      "include_colab_link": true
    },
    "kernelspec": {
      "name": "python3",
      "display_name": "Python 3"
    },
    "language_info": {
      "name": "python"
    }
  },
  "cells": [
    {
      "cell_type": "markdown",
      "metadata": {
        "id": "view-in-github",
        "colab_type": "text"
      },
      "source": [
        "<a href=\"https://colab.research.google.com/github/subramanya4shenoy/Flenzr/blob/main/LR_Forecasting_Mini_Course_Sales.ipynb\" target=\"_parent\"><img src=\"https://colab.research.google.com/assets/colab-badge.svg\" alt=\"Open In Colab\"/></a>"
      ]
    },
    {
      "cell_type": "markdown",
      "source": [
        "This is first commit from colab"
      ],
      "metadata": {
        "id": "mZhnSh26NHrE"
      }
    },
    {
      "cell_type": "code",
      "source": [],
      "metadata": {
        "id": "KKdzZUHRNMDj"
      },
      "execution_count": null,
      "outputs": []
    }
  ]
}